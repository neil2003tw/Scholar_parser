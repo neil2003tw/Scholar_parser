{
 "cells": [
  {
   "cell_type": "code",
   "execution_count": 385,
   "metadata": {},
   "outputs": [],
   "source": [
    "from bs4 import BeautifulSoup\n",
    "import requests\n",
    "import random\n",
    "import re, time"
   ]
  },
  {
   "cell_type": "code",
   "execution_count": 62,
   "metadata": {},
   "outputs": [],
   "source": [
    "USER_AGENT_LIST = [\n",
    "    \"Mozilla/5.0 (Windows NT 6.1; WOW64) AppleWebKit/537.1 (KHTML, like Gecko) Chrome/22.0.1207.1 Safari/537.1\",\n",
    "    \"Mozilla/5.0 (X11; CrOS i686 2268.111.0) AppleWebKit/536.11 (KHTML, like Gecko) Chrome/20.0.1132.57 Safari/536.11\",\n",
    "    \"Mozilla/5.0 (Windows NT 6.1; WOW64) AppleWebKit/536.6 (KHTML, like Gecko) Chrome/20.0.1092.0 Safari/536.6\",\n",
    "    \"Mozilla/5.0 (Windows NT 6.2) AppleWebKit/536.6 (KHTML, like Gecko) Chrome/20.0.1090.0 Safari/536.6\",\n",
    "    \"Mozilla/4.0 (compatible; MSIE 7.0; Windows NT 5.1; 360SE)\",\n",
    "    \"Mozilla/5.0 (Windows NT 6.1; WOW64) AppleWebKit/536.3 (KHTML, like Gecko) Chrome/19.0.1061.1 Safari/536.3\",\n",
    "    \"Mozilla/5.0 (Windows NT 6.1) AppleWebKit/536.3 (KHTML, like Gecko) Chrome/19.0.1061.1 Safari/536.3\",\n",
    "    \"Mozilla/5.0 (Windows NT 6.2) AppleWebKit/536.3 (KHTML, like Gecko) Chrome/19.0.1061.0 Safari/536.3\",\n",
    "    \"Mozilla/5.0 (X11; Linux x86_64) AppleWebKit/535.24 (KHTML, like Gecko) Chrome/19.0.1055.1 Safari/535.24\",\n",
    "    \"Mozilla/5.0 (Windows NT 6.2; WOW64) AppleWebKit/535.24 (KHTML, like Gecko) Chrome/19.0.1055.1 Safari/535.24\"\n",
    "]"
   ]
  },
  {
   "cell_type": "code",
   "execution_count": 388,
   "metadata": {},
   "outputs": [],
   "source": [
    "def get_response(url,params):\n",
    "    headers = {'user-agent':random.choice(USER_AGENT_LIST)}\n",
    "\n",
    "    resp = requests.get(url,\n",
    "                        headers=headers,\n",
    "                        params=params,\n",
    "                        timeout=3)\n",
    "    resp.encoding = \"UTF-8\"\n",
    "    resp.raise_for_status()\n",
    "    soup = BeautifulSoup(resp.content, 'lxml')\n",
    "    return soup\n",
    "\n",
    "def scholar_responce(url, query, start_num, start_y, end_y):\n",
    "    params = {'start':start_num,\n",
    "              'q':query,\n",
    "              'hl':'en',\n",
    "              'as_sdt':'0,9',\n",
    "              'as_ylo':end_y,\n",
    "              'as_yhi':start_y}\n",
    "    resp = get_response(url, params)\n",
    "    scholar_unit = resp.select('div.gs_r.gs_or.gs_scl')\n",
    "    np_check = True if resp.select_one('td[align=left] > a') else False\n",
    "    return scholar_unit, np_check\n",
    "\n",
    "\n",
    "def scholar_kitchen(soup_unit):\n",
    "    Ad = soup_unit.select_one('div.gs_a').text.replace(u'\\xa0', u' ')\n",
    "    Tails = soup_unit.select('div.gs_fl > a')\n",
    "    TailsT = [x.text for x in Tails]\n",
    "    KP_CD = [i for i,j in enumerate(TailsT) if re.match('^Cited*',j) is not None]\n",
    "    KP_url = soup_unit.select_one('h3.gs_rt > a[href]')\n",
    "    KP_pdfurl = soup_unit.select_one('div.gs_or_ggsm > a[href]')\n",
    "    KP_desc = soup_unit.select_one('div.gs_rs')\n",
    "    \n",
    "    Title = soup_unit.select_one('h3.gs_rt').text\n",
    "    FAuthor = re.split(r',| - ',Ad)[0]\n",
    "    Descript = KP_desc.text.replace(u'\\xa0', u' ') if KP_desc is not None else ''\n",
    "    Cite_count =  Tails[KP_CD[0]].text.split('Cited by ')[1] if len(KP_CD) is not 0 else ''\n",
    "    Url = KP_url.attrs['href'] if KP_url is not None else ''\n",
    "    PDF_url = KP_pdfurl.attrs['href'] if KP_pdfurl is not None else ''\n",
    "    GS_ID = soup_unit.attrs['data-cid']\n",
    "    \n",
    "    Result = {'Title':Title,\n",
    "             'FAuthor':FAuthor,\n",
    "             'Url':Url,\n",
    "             'PDFurl':PDF_url,\n",
    "             'Description':Descript,\n",
    "             'Cite_count':Cite_count,\n",
    "             'GS_ID':GS_ID}\n",
    "    return Result"
   ]
  },
  {
   "cell_type": "code",
   "execution_count": 389,
   "metadata": {},
   "outputs": [],
   "source": [
    "def scholar_crawler(query, start_y, end_y):\n",
    "    gscholar='https://scholar.google.com.tw/scholar'\n",
    "    NP_state=True\n",
    "    ingreds = []\n",
    "    start_num = 0\n",
    "    print('Start working on Crawling Job: 「Paper related to '+ \n",
    "          query +' from '+ str(start_y) +' to '+ str(end_y) + '」')\n",
    "    while NP_state:\n",
    "        soups, np_check = scholar_responce(gscholar, query, start_num, start_y, end_y)\n",
    "        for i, soup in enumerate(soups):\n",
    "            try:\n",
    "                ingreds.append(scholar_kitchen(soup))\n",
    "            except Exception as e: \n",
    "                print('Number '+str(start_num+i)+' Data Encountered Issue:')\n",
    "                print(e)\n",
    "                continue\n",
    "        NP_state = np_check\n",
    "        start_num +=10\n",
    "        print('Finished till Paper number '+str(start_num))\n",
    "        time.sleep(random.randint(4,20))\n",
    "        \n",
    "    return ingreds\n",
    "    "
   ]
  },
  {
   "cell_type": "code",
   "execution_count": 397,
   "metadata": {},
   "outputs": [
    {
     "name": "stdout",
     "output_type": "stream",
     "text": [
      "Start working on Crawling Job: 「Paper related to dota2 from 2016 to 2017」\n"
     ]
    },
    {
     "ename": "HTTPError",
     "evalue": "503 Server Error: Service Unavailable for url: https://www.google.com/sorry/index?continue=https://scholar.google.com.tw/scholar%3Fstart%3D0%26q%3Ddota2%26hl%3Den%26as_sdt%3D0%252C9%26as_ylo%3D2017%26as_yhi%3D2016&hl=en&q=EgRo7i9CGJ_bwN4FIhkA8aeDS-_IASyxo9WBTve8vyP8-VUd93pJMgFy",
     "output_type": "error",
     "traceback": [
      "\u001b[0;31m---------------------------------------------------------------------------\u001b[0m",
      "\u001b[0;31mHTTPError\u001b[0m                                 Traceback (most recent call last)",
      "\u001b[0;32m<ipython-input-397-c475c1d79994>\u001b[0m in \u001b[0;36m<module>\u001b[0;34m()\u001b[0m\n\u001b[0;32m----> 1\u001b[0;31m \u001b[0mdota2_data\u001b[0m \u001b[0;34m=\u001b[0m \u001b[0mscholar_crawler\u001b[0m\u001b[0;34m(\u001b[0m\u001b[0;34m'dota2'\u001b[0m\u001b[0;34m,\u001b[0m\u001b[0;36m2016\u001b[0m\u001b[0;34m,\u001b[0m \u001b[0;36m2017\u001b[0m\u001b[0;34m)\u001b[0m\u001b[0;34m\u001b[0m\u001b[0m\n\u001b[0m",
      "\u001b[0;32m<ipython-input-389-5dc6715c3779>\u001b[0m in \u001b[0;36mscholar_crawler\u001b[0;34m(query, start_y, end_y)\u001b[0m\n\u001b[1;32m      7\u001b[0m           query +' from '+ str(start_y) +' to '+ str(end_y) + '」')\n\u001b[1;32m      8\u001b[0m     \u001b[0;32mwhile\u001b[0m \u001b[0mNP_state\u001b[0m\u001b[0;34m:\u001b[0m\u001b[0;34m\u001b[0m\u001b[0m\n\u001b[0;32m----> 9\u001b[0;31m         \u001b[0msoups\u001b[0m\u001b[0;34m,\u001b[0m \u001b[0mnp_check\u001b[0m \u001b[0;34m=\u001b[0m \u001b[0mscholar_responce\u001b[0m\u001b[0;34m(\u001b[0m\u001b[0mgscholar\u001b[0m\u001b[0;34m,\u001b[0m \u001b[0mquery\u001b[0m\u001b[0;34m,\u001b[0m \u001b[0mstart_num\u001b[0m\u001b[0;34m,\u001b[0m \u001b[0mstart_y\u001b[0m\u001b[0;34m,\u001b[0m \u001b[0mend_y\u001b[0m\u001b[0;34m)\u001b[0m\u001b[0;34m\u001b[0m\u001b[0m\n\u001b[0m\u001b[1;32m     10\u001b[0m         \u001b[0;32mfor\u001b[0m \u001b[0mi\u001b[0m\u001b[0;34m,\u001b[0m \u001b[0msoup\u001b[0m \u001b[0;32min\u001b[0m \u001b[0menumerate\u001b[0m\u001b[0;34m(\u001b[0m\u001b[0msoups\u001b[0m\u001b[0;34m)\u001b[0m\u001b[0;34m:\u001b[0m\u001b[0;34m\u001b[0m\u001b[0m\n\u001b[1;32m     11\u001b[0m             \u001b[0;32mtry\u001b[0m\u001b[0;34m:\u001b[0m\u001b[0;34m\u001b[0m\u001b[0m\n",
      "\u001b[0;32m<ipython-input-388-e0d17cccfac6>\u001b[0m in \u001b[0;36mscholar_responce\u001b[0;34m(url, query, start_num, start_y, end_y)\u001b[0m\n\u001b[1;32m     18\u001b[0m               \u001b[0;34m'as_ylo'\u001b[0m\u001b[0;34m:\u001b[0m\u001b[0mend_y\u001b[0m\u001b[0;34m,\u001b[0m\u001b[0;34m\u001b[0m\u001b[0m\n\u001b[1;32m     19\u001b[0m               'as_yhi':start_y}\n\u001b[0;32m---> 20\u001b[0;31m     \u001b[0mresp\u001b[0m \u001b[0;34m=\u001b[0m \u001b[0mget_response\u001b[0m\u001b[0;34m(\u001b[0m\u001b[0murl\u001b[0m\u001b[0;34m,\u001b[0m \u001b[0mparams\u001b[0m\u001b[0;34m)\u001b[0m\u001b[0;34m\u001b[0m\u001b[0m\n\u001b[0m\u001b[1;32m     21\u001b[0m     \u001b[0mscholar_unit\u001b[0m \u001b[0;34m=\u001b[0m \u001b[0mresp\u001b[0m\u001b[0;34m.\u001b[0m\u001b[0mselect\u001b[0m\u001b[0;34m(\u001b[0m\u001b[0;34m'div.gs_r.gs_or.gs_scl'\u001b[0m\u001b[0;34m)\u001b[0m\u001b[0;34m\u001b[0m\u001b[0m\n\u001b[1;32m     22\u001b[0m     \u001b[0mnp_check\u001b[0m \u001b[0;34m=\u001b[0m \u001b[0;32mTrue\u001b[0m \u001b[0;32mif\u001b[0m \u001b[0mresp\u001b[0m\u001b[0;34m.\u001b[0m\u001b[0mselect_one\u001b[0m\u001b[0;34m(\u001b[0m\u001b[0;34m'td[align=left] > a'\u001b[0m\u001b[0;34m)\u001b[0m \u001b[0;32melse\u001b[0m \u001b[0;32mFalse\u001b[0m\u001b[0;34m\u001b[0m\u001b[0m\n",
      "\u001b[0;32m<ipython-input-388-e0d17cccfac6>\u001b[0m in \u001b[0;36mget_response\u001b[0;34m(url, params)\u001b[0m\n\u001b[1;32m      7\u001b[0m                         timeout=3)\n\u001b[1;32m      8\u001b[0m     \u001b[0mresp\u001b[0m\u001b[0;34m.\u001b[0m\u001b[0mencoding\u001b[0m \u001b[0;34m=\u001b[0m \u001b[0;34m\"UTF-8\"\u001b[0m\u001b[0;34m\u001b[0m\u001b[0m\n\u001b[0;32m----> 9\u001b[0;31m     \u001b[0mresp\u001b[0m\u001b[0;34m.\u001b[0m\u001b[0mraise_for_status\u001b[0m\u001b[0;34m(\u001b[0m\u001b[0;34m)\u001b[0m\u001b[0;34m\u001b[0m\u001b[0m\n\u001b[0m\u001b[1;32m     10\u001b[0m     \u001b[0msoup\u001b[0m \u001b[0;34m=\u001b[0m \u001b[0mBeautifulSoup\u001b[0m\u001b[0;34m(\u001b[0m\u001b[0mresp\u001b[0m\u001b[0;34m.\u001b[0m\u001b[0mcontent\u001b[0m\u001b[0;34m,\u001b[0m \u001b[0;34m'lxml'\u001b[0m\u001b[0;34m)\u001b[0m\u001b[0;34m\u001b[0m\u001b[0m\n\u001b[1;32m     11\u001b[0m     \u001b[0;32mreturn\u001b[0m \u001b[0msoup\u001b[0m\u001b[0;34m\u001b[0m\u001b[0m\n",
      "\u001b[0;32m/anaconda3/lib/python3.6/site-packages/requests/models.py\u001b[0m in \u001b[0;36mraise_for_status\u001b[0;34m(self)\u001b[0m\n\u001b[1;32m    933\u001b[0m \u001b[0;34m\u001b[0m\u001b[0m\n\u001b[1;32m    934\u001b[0m         \u001b[0;32mif\u001b[0m \u001b[0mhttp_error_msg\u001b[0m\u001b[0;34m:\u001b[0m\u001b[0;34m\u001b[0m\u001b[0m\n\u001b[0;32m--> 935\u001b[0;31m             \u001b[0;32mraise\u001b[0m \u001b[0mHTTPError\u001b[0m\u001b[0;34m(\u001b[0m\u001b[0mhttp_error_msg\u001b[0m\u001b[0;34m,\u001b[0m \u001b[0mresponse\u001b[0m\u001b[0;34m=\u001b[0m\u001b[0mself\u001b[0m\u001b[0;34m)\u001b[0m\u001b[0;34m\u001b[0m\u001b[0m\n\u001b[0m\u001b[1;32m    936\u001b[0m \u001b[0;34m\u001b[0m\u001b[0m\n\u001b[1;32m    937\u001b[0m     \u001b[0;32mdef\u001b[0m \u001b[0mclose\u001b[0m\u001b[0;34m(\u001b[0m\u001b[0mself\u001b[0m\u001b[0;34m)\u001b[0m\u001b[0;34m:\u001b[0m\u001b[0;34m\u001b[0m\u001b[0m\n",
      "\u001b[0;31mHTTPError\u001b[0m: 503 Server Error: Service Unavailable for url: https://www.google.com/sorry/index?continue=https://scholar.google.com.tw/scholar%3Fstart%3D0%26q%3Ddota2%26hl%3Den%26as_sdt%3D0%252C9%26as_ylo%3D2017%26as_yhi%3D2016&hl=en&q=EgRo7i9CGJ_bwN4FIhkA8aeDS-_IASyxo9WBTve8vyP8-VUd93pJMgFy"
     ]
    }
   ],
   "source": [
    "dota2_data = scholar_crawler('dota2',2016, 2017)"
   ]
  },
  {
   "cell_type": "code",
   "execution_count": 401,
   "metadata": {},
   "outputs": [
    {
     "name": "stdout",
     "output_type": "stream",
     "text": [
      "{'User-Agent': 'python-requests/2.18.4', 'Accept-Encoding': 'gzip, deflate', 'Accept': '*/*', 'Connection': 'keep-alive'}\n"
     ]
    }
   ],
   "source": [
    "print(requests.utils.default_headers())"
   ]
  },
  {
   "cell_type": "code",
   "execution_count": 403,
   "metadata": {},
   "outputs": [
    {
     "data": {
      "text/plain": [
       "8"
      ]
     },
     "execution_count": 403,
     "metadata": {},
     "output_type": "execute_result"
    }
   ],
   "source": [
    "random.randint(4,20)"
   ]
  },
  {
   "cell_type": "code",
   "execution_count": null,
   "metadata": {},
   "outputs": [],
   "source": []
  }
 ],
 "metadata": {
  "kernelspec": {
   "display_name": "Python 3",
   "language": "python",
   "name": "python3"
  },
  "language_info": {
   "codemirror_mode": {
    "name": "ipython",
    "version": 3
   },
   "file_extension": ".py",
   "mimetype": "text/x-python",
   "name": "python",
   "nbconvert_exporter": "python",
   "pygments_lexer": "ipython3",
   "version": "3.6.5"
  }
 },
 "nbformat": 4,
 "nbformat_minor": 2
}
