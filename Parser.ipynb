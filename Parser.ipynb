{
 "cells": [
  {
   "cell_type": "code",
   "execution_count": 200,
   "metadata": {},
   "outputs": [],
   "source": [
    "import urllib.request\n",
    "import http.cookiejar\n",
    "import urllib\n",
    "from bs4 import BeautifulSoup\n",
    "import requests\n",
    "import random\n",
    "import re"
   ]
  },
  {
   "cell_type": "code",
   "execution_count": 62,
   "metadata": {},
   "outputs": [],
   "source": [
    "USER_AGENT_LIST = [\n",
    "    \"Mozilla/5.0 (Windows NT 6.1; WOW64) AppleWebKit/537.1 (KHTML, like Gecko) Chrome/22.0.1207.1 Safari/537.1\",\n",
    "    \"Mozilla/5.0 (X11; CrOS i686 2268.111.0) AppleWebKit/536.11 (KHTML, like Gecko) Chrome/20.0.1132.57 Safari/536.11\",\n",
    "    \"Mozilla/5.0 (Windows NT 6.1; WOW64) AppleWebKit/536.6 (KHTML, like Gecko) Chrome/20.0.1092.0 Safari/536.6\",\n",
    "    \"Mozilla/5.0 (Windows NT 6.2) AppleWebKit/536.6 (KHTML, like Gecko) Chrome/20.0.1090.0 Safari/536.6\",\n",
    "    \"Mozilla/4.0 (compatible; MSIE 7.0; Windows NT 5.1; 360SE)\",\n",
    "    \"Mozilla/5.0 (Windows NT 6.1; WOW64) AppleWebKit/536.3 (KHTML, like Gecko) Chrome/19.0.1061.1 Safari/536.3\",\n",
    "    \"Mozilla/5.0 (Windows NT 6.1) AppleWebKit/536.3 (KHTML, like Gecko) Chrome/19.0.1061.1 Safari/536.3\",\n",
    "    \"Mozilla/5.0 (Windows NT 6.2) AppleWebKit/536.3 (KHTML, like Gecko) Chrome/19.0.1061.0 Safari/536.3\",\n",
    "    \"Mozilla/5.0 (X11; Linux x86_64) AppleWebKit/535.24 (KHTML, like Gecko) Chrome/19.0.1055.1 Safari/535.24\",\n",
    "    \"Mozilla/5.0 (Windows NT 6.2; WOW64) AppleWebKit/535.24 (KHTML, like Gecko) Chrome/19.0.1055.1 Safari/535.24\"\n",
    "]"
   ]
  },
  {
   "cell_type": "code",
   "execution_count": 338,
   "metadata": {},
   "outputs": [],
   "source": [
    "def get_response(url,params):\n",
    "    headers = {'user-agent':random.choice(USER_AGENT_LIST)}\n",
    "\n",
    "    resp = requests.get(url,\n",
    "                        headers=headers,\n",
    "                        params=params,\n",
    "                        timeout=3)\n",
    "    resp.encoding = \"UTF-8\"\n",
    "    resp.raise_for_status()\n",
    "    soup = BeautifulSoup(resp.content, 'lxml')\n",
    "    return soup\n",
    "\n",
    "def scholar_kitchen(soup_unit):\n",
    "    Ad = soup_unit.select_one('div.gs_a').text.replace(u'\\xa0', u' ')\n",
    "    Tails = soup_unit.select('div.gs_fl > a')\n",
    "    TailsT = [x.text for x in Tails]\n",
    "    KP_CD = [i for i,j in enumerate(TailsT) if re.match('^Cited*',j) is not None]\n",
    "    KP_url = soup_unit.select_one('h3.gs_rt > a[href]')\n",
    "    KP_pdfurl = soup_unit.select_one('div.gs_or_ggsm > a[href]')\n",
    "    KP_desc = soup_unit.select_one('div.gs_rs')\n",
    "    \n",
    "    Title = soup_unit.select_one('h3.gs_rt').text\n",
    "    FAuthor = re.split(r',| - ',Ad)[0]\n",
    "    Descript = KP_desc.text.replace(u'\\xa0', u' ') if KP_desc is not None else ''\n",
    "    Cite_count =  Tails[KP_CD[0]].text.split('Cited by ')[1] if len(KP_CD) is not 0 else ''\n",
    "    Url = KP_url.attrs['href'] if KP_url is not None else ''\n",
    "    PDF_url = KP_pdfurl.attrs['href'] if KP_pdfurl is not None else ''\n",
    "\n",
    "    \n",
    "    Result = {'Title':Title,\n",
    "             'FAuthor':FAuthor,\n",
    "             'Url':Url,\n",
    "             'PDFurl':PDF_url,\n",
    "             'Description':Descript,\n",
    "             'Cite_count':Cite_count}\n",
    "    return Result"
   ]
  },
  {
   "cell_type": "code",
   "execution_count": 114,
   "metadata": {},
   "outputs": [],
   "source": [
    "httpbin='https://httpbin.org'\n",
    "google='https://google.com'\n",
    "twyahoo='https://tw.yahoo.com'\n",
    "gscholar='https://scholar.google.com.tw/scholar'"
   ]
  },
  {
   "cell_type": "code",
   "execution_count": 184,
   "metadata": {},
   "outputs": [],
   "source": [
    "params = {'start':'0',\n",
    "          'q':'dota2',\n",
    "          'hl':'en',\n",
    "          'as_sdt':'0,5',\n",
    "          'as_ylo':'2016',\n",
    "          'as_yhi':'2016'}"
   ]
  },
  {
   "cell_type": "code",
   "execution_count": 339,
   "metadata": {},
   "outputs": [],
   "source": [
    "meal = get_response(gscholar,params)\n",
    "soups = meal.select('div.gs_r.gs_or.gs_scl')\n",
    "ingreds = []\n",
    "for i, soup in enumerate(soups):\n",
    "    try:\n",
    "        ingreds.append(scholar_kitchen(soup))\n",
    "    except Exception as e: \n",
    "        print(i)\n",
    "        print(e)\n",
    "        continue\n",
    "    \n",
    "    "
   ]
  },
  {
   "cell_type": "code",
   "execution_count": 340,
   "metadata": {},
   "outputs": [
    {
     "data": {
      "text/plain": [
       "[{'Title': 'Fuzzy controller based AI for dynamic difficulty adjustment for defense of the Ancient 2 (DotA2)',\n",
       "  'FAuthor': 'NPH Pratama',\n",
       "  'Url': 'https://ieeexplore.ieee.org/abstract/document/7828640/',\n",
       "  'PDFurl': '',\n",
       "  'Description': \"Defense of the Ancient 2 (DotA2) is a game with a huge player base achieving almost 11 millions players during the time when this paper was written. Even though this game is more focused on its multiplayer players versus players mode, it's bot match mode is still a viable …\",\n",
       "  'Cite_count': '3'},\n",
       " {'Title': \"[CITATION][C] Virtual Reality Takes Stage At World's Largest Esports Tournament, The International For Dota2\",\n",
       "  'FAuthor': 'W Green',\n",
       "  'Url': '',\n",
       "  'PDFurl': '',\n",
       "  'Description': '',\n",
       "  'Cite_count': '2'},\n",
       " {'Title': 'VR UR< 3 Virtual Reality Impact on> Libraries',\n",
       "  'FAuthor': 'C Bryant',\n",
       "  'Url': 'https://digitalcommons.wku.edu/kcc/2016_Conference/Day_1/30/',\n",
       "  'PDFurl': '',\n",
       "  'Description': '… Louis, and Southwestern University offer scholarships for cyber athletes. Video games\\nthat are popular for play include LOL (League of Legends), DOTA2 (Defense of the\\nAncients), and Counter-Strike: Global Offensive to name a few … \\n',\n",
       "  'Cite_count': ''},\n",
       " {'Title': 'Real-time video highlights for yahoo esports',\n",
       "  'FAuthor': 'Y Song',\n",
       "  'Url': 'https://arxiv.org/abs/1611.08780',\n",
       "  'PDFurl': 'https://arxiv.org/pdf/1611.08780',\n",
       "  'Description': '… 3 Data Collection We collected a dataset of esports videos for three popular game titles: Heroes\\nof the Storm (HotS), League of Legends (LoL), and Dota2 … 3 Page 4. Model HotS LoL Dota2 AP\\nRecall AP Recall AP Recall Single Random 33.19 49.65 31.06 49.24 34.12 49.27 … \\n',\n",
       "  'Cite_count': '3'},\n",
       " {'Title': 'Fairness mechanism in multiplayer online battle arena games',\n",
       "  'FAuthor': 'M Wu',\n",
       "  'Url': 'https://ieeexplore.ieee.org/abstract/document/7810986/',\n",
       "  'PDFurl': 'https://www.researchgate.net/profile/Shuo_Xiong2/publication/309662487_Fairness_Mechanism_in_Multiplayer_Online_Battle_Arena_Games/links/5a15020a45851500521317ab/Fairness-Mechanism-in-Multiplayer-Online-Battle-Arena-Games.pdf',\n",
       "  'Description': '… 1) Example in Dota: In Dota2, captain mode is the standard format for tournament games … The\\nsecond team gets the first two pick can be treated as compassion. 3) Example in Heroes of the\\nStorm: In Heroes of the Storm (HotS), a system similar to Dota2 is used … \\n',\n",
       "  'Cite_count': '5'},\n",
       " {'Title': 'Skill rating method in multiplayer online battle arena',\n",
       "  'FAuthor': 'N Prakannoppakun…',\n",
       "  'Url': 'https://ieeexplore.ieee.org/abstract/document/7861165/',\n",
       "  'PDFurl': '',\n",
       "  'Description': '… Fig. 2 present heroes in dota2. Some hero with “Carry” or “Nuker” role will focus on doing\\nthe damages from spells or normal attacks as their first priority … The result of this research\\nwas the social interactions are meaning ful for MOBAs like Dota2 … \\n',\n",
       "  'Cite_count': '1'},\n",
       " {'Title': '[HTML][HTML] Речевой портрет языковой личности игрока в DotA2',\n",
       "  'FAuthor': 'СС Вдовиченко',\n",
       "  'Url': 'https://cyberleninka.ru/article/n/rechevoy-portret-yazykovoy-lichnosti-igroka-v-dota2',\n",
       "  'PDFurl': 'https://cyberleninka.ru/article/n/rechevoy-portret-yazykovoy-lichnosti-igroka-v-dota2',\n",
       "  'Description': 'Рассматривается речевой портрет языковой личности игрока в Dota 2 «дотера». Особое внимание уделяется коммуникативным особенностям речевого поведения дотера, в частности, стремлению сделать речь лаконичной, эмоциональной и …',\n",
       "  'Cite_count': '2'},\n",
       " {'Title': \"[CITATION][C] Profanity in online gaming communities and the relationship between profanity and games' brutality as well as the commitment to a game-evidence from\\xa0…\",\n",
       "  'FAuthor': 'P Bednarek',\n",
       "  'Url': '',\n",
       "  'PDFurl': '',\n",
       "  'Description': '',\n",
       "  'Cite_count': ''},\n",
       " {'Title': '[PDF][PDF] eSports Spectatorship in Australia',\n",
       "  'FAuthor': 'M Carter',\n",
       "  'Url': 'https://socialnui.unimelb.edu.au/publications/2016-SocialNUI-Carter-2.pdf',\n",
       "  'PDFurl': 'https://socialnui.unimelb.edu.au/publications/2016-SocialNUI-Carter-2.pdf',\n",
       "  'Description': \"… Green, W. (2016) “Virtual Reality Takes Stage At World's Largest Esports Tournament, The\\nInternational For Dota2” Legal Sports Reports. 9 August, 2016. Online resource.\\n<http://www.legalsportsreport.com/10947/virtual-reality-the-international-dota2-valve-seattle/> … \\n\",\n",
       "  'Cite_count': ''},\n",
       " {'Title': 'Eppur Si Muove-Considerations in the Research of Commercial Video Games',\n",
       "  'FAuthor': 'CMC Diaz',\n",
       "  'Url': 'https://www.computer.org/csdl/proceedings/vs-games/2016/2722/00/07590346-abs.html',\n",
       "  'PDFurl': '',\n",
       "  'Description': '… This study aims to explore how expert and novice players of the games League of\\nLegends (LoL) and Defence of the Ancients 2 (DotA2) use scientific reasoning and\\nargumentation during the gameplay. It takes place in two phases … \\n',\n",
       "  'Cite_count': ''}]"
      ]
     },
     "execution_count": 340,
     "metadata": {},
     "output_type": "execute_result"
    }
   ],
   "source": [
    "ingreds"
   ]
  }
 ],
 "metadata": {
  "kernelspec": {
   "display_name": "Python 3",
   "language": "python",
   "name": "python3"
  },
  "language_info": {
   "codemirror_mode": {
    "name": "ipython",
    "version": 3
   },
   "file_extension": ".py",
   "mimetype": "text/x-python",
   "name": "python",
   "nbconvert_exporter": "python",
   "pygments_lexer": "ipython3",
   "version": "3.6.5"
  }
 },
 "nbformat": 4,
 "nbformat_minor": 2
}
